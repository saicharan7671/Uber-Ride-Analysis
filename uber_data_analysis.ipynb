{
 "cells": [
  {
   "cell_type": "code",
   "execution_count": 2,
   "id": "2f6bc43b-85ed-46b3-ac61-120e7c8ef19e",
   "metadata": {
    "scrolled": true
   },
   "outputs": [
    {
     "name": "stdout",
     "output_type": "stream",
     "text": [
      "Requirement already satisfied: matplotlib in c:\\users\\sai charan\\anaconda3\\lib\\site-packages (3.10.0)\n",
      "Requirement already satisfied: seaborn in c:\\users\\sai charan\\anaconda3\\lib\\site-packages (0.13.2)\n",
      "Requirement already satisfied: contourpy>=1.0.1 in c:\\users\\sai charan\\anaconda3\\lib\\site-packages (from matplotlib) (1.3.1)\n",
      "Requirement already satisfied: cycler>=0.10 in c:\\users\\sai charan\\anaconda3\\lib\\site-packages (from matplotlib) (0.11.0)\n",
      "Requirement already satisfied: fonttools>=4.22.0 in c:\\users\\sai charan\\anaconda3\\lib\\site-packages (from matplotlib) (4.55.3)\n",
      "Requirement already satisfied: kiwisolver>=1.3.1 in c:\\users\\sai charan\\anaconda3\\lib\\site-packages (from matplotlib) (1.4.8)\n",
      "Requirement already satisfied: numpy>=1.23 in c:\\users\\sai charan\\anaconda3\\lib\\site-packages (from matplotlib) (2.1.3)\n",
      "Requirement already satisfied: packaging>=20.0 in c:\\users\\sai charan\\anaconda3\\lib\\site-packages (from matplotlib) (24.2)\n",
      "Requirement already satisfied: pillow>=8 in c:\\users\\sai charan\\anaconda3\\lib\\site-packages (from matplotlib) (11.1.0)\n",
      "Requirement already satisfied: pyparsing>=2.3.1 in c:\\users\\sai charan\\anaconda3\\lib\\site-packages (from matplotlib) (3.2.0)\n",
      "Requirement already satisfied: python-dateutil>=2.7 in c:\\users\\sai charan\\anaconda3\\lib\\site-packages (from matplotlib) (2.9.0.post0)\n",
      "Requirement already satisfied: pandas>=1.2 in c:\\users\\sai charan\\anaconda3\\lib\\site-packages (from seaborn) (2.2.3)\n",
      "Requirement already satisfied: pytz>=2020.1 in c:\\users\\sai charan\\anaconda3\\lib\\site-packages (from pandas>=1.2->seaborn) (2024.1)\n",
      "Requirement already satisfied: tzdata>=2022.7 in c:\\users\\sai charan\\anaconda3\\lib\\site-packages (from pandas>=1.2->seaborn) (2025.2)\n",
      "Requirement already satisfied: six>=1.5 in c:\\users\\sai charan\\anaconda3\\lib\\site-packages (from python-dateutil>=2.7->matplotlib) (1.17.0)\n"
     ]
    }
   ],
   "source": [
    "!pip install matplotlib seaborn\n"
   ]
  },
  {
   "cell_type": "code",
   "execution_count": 3,
   "id": "ba5adbe2-7dd8-424e-addc-c488e8f962cd",
   "metadata": {},
   "outputs": [],
   "source": [
    "import pandas as pd, numpy as np, matplotlib.pyplot as plt, seaborn as sns"
   ]
  },
  {
   "cell_type": "code",
   "execution_count": null,
   "id": "1a9b0343-e62a-4021-82bc-6dec0670cf5c",
   "metadata": {},
   "outputs": [],
   "source": []
  },
  {
   "cell_type": "markdown",
   "id": "ea64f668-5173-46c3-b2a0-eedefd77515a",
   "metadata": {},
   "source": [
    "# Loading data"
   ]
  },
  {
   "cell_type": "code",
   "execution_count": 4,
   "id": "062f7d28-3278-4ad3-b282-37d845f0ca7e",
   "metadata": {},
   "outputs": [],
   "source": [
    "data = pd.read_csv(\"ncr_ride_bookings.csv\")"
   ]
  },
  {
   "cell_type": "code",
   "execution_count": 5,
   "id": "7e44bc07-40a7-456b-8cf8-8d06bab0ebe6",
   "metadata": {},
   "outputs": [
    {
     "data": {
      "text/html": [
       "<div>\n",
       "<style scoped>\n",
       "    .dataframe tbody tr th:only-of-type {\n",
       "        vertical-align: middle;\n",
       "    }\n",
       "\n",
       "    .dataframe tbody tr th {\n",
       "        vertical-align: top;\n",
       "    }\n",
       "\n",
       "    .dataframe thead th {\n",
       "        text-align: right;\n",
       "    }\n",
       "</style>\n",
       "<table border=\"1\" class=\"dataframe\">\n",
       "  <thead>\n",
       "    <tr style=\"text-align: right;\">\n",
       "      <th></th>\n",
       "      <th>Date</th>\n",
       "      <th>Time</th>\n",
       "      <th>Booking ID</th>\n",
       "      <th>Booking Status</th>\n",
       "      <th>Customer ID</th>\n",
       "      <th>Vehicle Type</th>\n",
       "      <th>Pickup Location</th>\n",
       "      <th>Drop Location</th>\n",
       "      <th>Avg VTAT</th>\n",
       "      <th>Avg CTAT</th>\n",
       "      <th>...</th>\n",
       "      <th>Reason for cancelling by Customer</th>\n",
       "      <th>Cancelled Rides by Driver</th>\n",
       "      <th>Driver Cancellation Reason</th>\n",
       "      <th>Incomplete Rides</th>\n",
       "      <th>Incomplete Rides Reason</th>\n",
       "      <th>Booking Value</th>\n",
       "      <th>Ride Distance</th>\n",
       "      <th>Driver Ratings</th>\n",
       "      <th>Customer Rating</th>\n",
       "      <th>Payment Method</th>\n",
       "    </tr>\n",
       "  </thead>\n",
       "  <tbody>\n",
       "    <tr>\n",
       "      <th>0</th>\n",
       "      <td>2024-03-23</td>\n",
       "      <td>12:29:38</td>\n",
       "      <td>\"CNR5884300\"</td>\n",
       "      <td>No Driver Found</td>\n",
       "      <td>\"CID1982111\"</td>\n",
       "      <td>eBike</td>\n",
       "      <td>Palam Vihar</td>\n",
       "      <td>Jhilmil</td>\n",
       "      <td>NaN</td>\n",
       "      <td>NaN</td>\n",
       "      <td>...</td>\n",
       "      <td>NaN</td>\n",
       "      <td>NaN</td>\n",
       "      <td>NaN</td>\n",
       "      <td>NaN</td>\n",
       "      <td>NaN</td>\n",
       "      <td>NaN</td>\n",
       "      <td>NaN</td>\n",
       "      <td>NaN</td>\n",
       "      <td>NaN</td>\n",
       "      <td>NaN</td>\n",
       "    </tr>\n",
       "    <tr>\n",
       "      <th>1</th>\n",
       "      <td>2024-11-29</td>\n",
       "      <td>18:01:39</td>\n",
       "      <td>\"CNR1326809\"</td>\n",
       "      <td>Incomplete</td>\n",
       "      <td>\"CID4604802\"</td>\n",
       "      <td>Go Sedan</td>\n",
       "      <td>Shastri Nagar</td>\n",
       "      <td>Gurgaon Sector 56</td>\n",
       "      <td>4.9</td>\n",
       "      <td>14.0</td>\n",
       "      <td>...</td>\n",
       "      <td>NaN</td>\n",
       "      <td>NaN</td>\n",
       "      <td>NaN</td>\n",
       "      <td>1.0</td>\n",
       "      <td>Vehicle Breakdown</td>\n",
       "      <td>237.0</td>\n",
       "      <td>5.73</td>\n",
       "      <td>NaN</td>\n",
       "      <td>NaN</td>\n",
       "      <td>UPI</td>\n",
       "    </tr>\n",
       "    <tr>\n",
       "      <th>2</th>\n",
       "      <td>2024-08-23</td>\n",
       "      <td>08:56:10</td>\n",
       "      <td>\"CNR8494506\"</td>\n",
       "      <td>Completed</td>\n",
       "      <td>\"CID9202816\"</td>\n",
       "      <td>Auto</td>\n",
       "      <td>Khandsa</td>\n",
       "      <td>Malviya Nagar</td>\n",
       "      <td>13.4</td>\n",
       "      <td>25.8</td>\n",
       "      <td>...</td>\n",
       "      <td>NaN</td>\n",
       "      <td>NaN</td>\n",
       "      <td>NaN</td>\n",
       "      <td>NaN</td>\n",
       "      <td>NaN</td>\n",
       "      <td>627.0</td>\n",
       "      <td>13.58</td>\n",
       "      <td>4.9</td>\n",
       "      <td>4.9</td>\n",
       "      <td>Debit Card</td>\n",
       "    </tr>\n",
       "    <tr>\n",
       "      <th>3</th>\n",
       "      <td>2024-10-21</td>\n",
       "      <td>17:17:25</td>\n",
       "      <td>\"CNR8906825\"</td>\n",
       "      <td>Completed</td>\n",
       "      <td>\"CID2610914\"</td>\n",
       "      <td>Premier Sedan</td>\n",
       "      <td>Central Secretariat</td>\n",
       "      <td>Inderlok</td>\n",
       "      <td>13.1</td>\n",
       "      <td>28.5</td>\n",
       "      <td>...</td>\n",
       "      <td>NaN</td>\n",
       "      <td>NaN</td>\n",
       "      <td>NaN</td>\n",
       "      <td>NaN</td>\n",
       "      <td>NaN</td>\n",
       "      <td>416.0</td>\n",
       "      <td>34.02</td>\n",
       "      <td>4.6</td>\n",
       "      <td>5.0</td>\n",
       "      <td>UPI</td>\n",
       "    </tr>\n",
       "    <tr>\n",
       "      <th>4</th>\n",
       "      <td>2024-09-16</td>\n",
       "      <td>22:08:00</td>\n",
       "      <td>\"CNR1950162\"</td>\n",
       "      <td>Completed</td>\n",
       "      <td>\"CID9933542\"</td>\n",
       "      <td>Bike</td>\n",
       "      <td>Ghitorni Village</td>\n",
       "      <td>Khan Market</td>\n",
       "      <td>5.3</td>\n",
       "      <td>19.6</td>\n",
       "      <td>...</td>\n",
       "      <td>NaN</td>\n",
       "      <td>NaN</td>\n",
       "      <td>NaN</td>\n",
       "      <td>NaN</td>\n",
       "      <td>NaN</td>\n",
       "      <td>737.0</td>\n",
       "      <td>48.21</td>\n",
       "      <td>4.1</td>\n",
       "      <td>4.3</td>\n",
       "      <td>UPI</td>\n",
       "    </tr>\n",
       "  </tbody>\n",
       "</table>\n",
       "<p>5 rows × 21 columns</p>\n",
       "</div>"
      ],
      "text/plain": [
       "         Date      Time    Booking ID   Booking Status   Customer ID  \\\n",
       "0  2024-03-23  12:29:38  \"CNR5884300\"  No Driver Found  \"CID1982111\"   \n",
       "1  2024-11-29  18:01:39  \"CNR1326809\"       Incomplete  \"CID4604802\"   \n",
       "2  2024-08-23  08:56:10  \"CNR8494506\"        Completed  \"CID9202816\"   \n",
       "3  2024-10-21  17:17:25  \"CNR8906825\"        Completed  \"CID2610914\"   \n",
       "4  2024-09-16  22:08:00  \"CNR1950162\"        Completed  \"CID9933542\"   \n",
       "\n",
       "    Vehicle Type      Pickup Location      Drop Location  Avg VTAT  Avg CTAT  \\\n",
       "0          eBike          Palam Vihar            Jhilmil       NaN       NaN   \n",
       "1       Go Sedan        Shastri Nagar  Gurgaon Sector 56       4.9      14.0   \n",
       "2           Auto              Khandsa      Malviya Nagar      13.4      25.8   \n",
       "3  Premier Sedan  Central Secretariat           Inderlok      13.1      28.5   \n",
       "4           Bike     Ghitorni Village        Khan Market       5.3      19.6   \n",
       "\n",
       "   ...  Reason for cancelling by Customer Cancelled Rides by Driver  \\\n",
       "0  ...                                NaN                       NaN   \n",
       "1  ...                                NaN                       NaN   \n",
       "2  ...                                NaN                       NaN   \n",
       "3  ...                                NaN                       NaN   \n",
       "4  ...                                NaN                       NaN   \n",
       "\n",
       "   Driver Cancellation Reason Incomplete Rides  Incomplete Rides Reason  \\\n",
       "0                         NaN              NaN                      NaN   \n",
       "1                         NaN              1.0        Vehicle Breakdown   \n",
       "2                         NaN              NaN                      NaN   \n",
       "3                         NaN              NaN                      NaN   \n",
       "4                         NaN              NaN                      NaN   \n",
       "\n",
       "  Booking Value  Ride Distance  Driver Ratings  Customer Rating  \\\n",
       "0           NaN            NaN             NaN              NaN   \n",
       "1         237.0           5.73             NaN              NaN   \n",
       "2         627.0          13.58             4.9              4.9   \n",
       "3         416.0          34.02             4.6              5.0   \n",
       "4         737.0          48.21             4.1              4.3   \n",
       "\n",
       "   Payment Method  \n",
       "0             NaN  \n",
       "1             UPI  \n",
       "2      Debit Card  \n",
       "3             UPI  \n",
       "4             UPI  \n",
       "\n",
       "[5 rows x 21 columns]"
      ]
     },
     "execution_count": 5,
     "metadata": {},
     "output_type": "execute_result"
    }
   ],
   "source": [
    "data.head()"
   ]
  },
  {
   "cell_type": "code",
   "execution_count": null,
   "id": "07deb41f-4eee-4967-8aa8-4cd5f646d9f4",
   "metadata": {},
   "outputs": [],
   "source": []
  },
  {
   "cell_type": "markdown",
   "id": "009faa8b-c7fc-41ca-b36b-809caf333833",
   "metadata": {},
   "source": [
    "### We succeffully loaded data into variable \"Data\""
   ]
  },
  {
   "cell_type": "code",
   "execution_count": null,
   "id": "712e71fa-343e-4ac7-9733-edd018cd8faf",
   "metadata": {},
   "outputs": [],
   "source": []
  },
  {
   "cell_type": "markdown",
   "id": "19140f52-7471-47f5-896b-e4d08f73eb63",
   "metadata": {},
   "source": [
    "# Data Understanding"
   ]
  },
  {
   "cell_type": "code",
   "execution_count": null,
   "id": "a2e26639-1070-472f-96f0-9fb65a7ba95d",
   "metadata": {},
   "outputs": [],
   "source": []
  },
  {
   "cell_type": "code",
   "execution_count": 6,
   "id": "2300a60e-f776-4866-a41b-4ccd68006258",
   "metadata": {},
   "outputs": [
    {
     "data": {
      "text/plain": [
       "(150000, 21)"
      ]
     },
     "execution_count": 6,
     "metadata": {},
     "output_type": "execute_result"
    }
   ],
   "source": [
    "data.shape"
   ]
  },
  {
   "cell_type": "code",
   "execution_count": 7,
   "id": "e2ab0be9-3076-4324-87a6-03a3c9a3a59d",
   "metadata": {},
   "outputs": [
    {
     "name": "stdout",
     "output_type": "stream",
     "text": [
      "<class 'pandas.core.frame.DataFrame'>\n",
      "RangeIndex: 150000 entries, 0 to 149999\n",
      "Data columns (total 21 columns):\n",
      " #   Column                             Non-Null Count   Dtype  \n",
      "---  ------                             --------------   -----  \n",
      " 0   Date                               150000 non-null  object \n",
      " 1   Time                               150000 non-null  object \n",
      " 2   Booking ID                         150000 non-null  object \n",
      " 3   Booking Status                     150000 non-null  object \n",
      " 4   Customer ID                        150000 non-null  object \n",
      " 5   Vehicle Type                       150000 non-null  object \n",
      " 6   Pickup Location                    150000 non-null  object \n",
      " 7   Drop Location                      150000 non-null  object \n",
      " 8   Avg VTAT                           139500 non-null  float64\n",
      " 9   Avg CTAT                           102000 non-null  float64\n",
      " 10  Cancelled Rides by Customer        10500 non-null   float64\n",
      " 11  Reason for cancelling by Customer  10500 non-null   object \n",
      " 12  Cancelled Rides by Driver          27000 non-null   float64\n",
      " 13  Driver Cancellation Reason         27000 non-null   object \n",
      " 14  Incomplete Rides                   9000 non-null    float64\n",
      " 15  Incomplete Rides Reason            9000 non-null    object \n",
      " 16  Booking Value                      102000 non-null  float64\n",
      " 17  Ride Distance                      102000 non-null  float64\n",
      " 18  Driver Ratings                     93000 non-null   float64\n",
      " 19  Customer Rating                    93000 non-null   float64\n",
      " 20  Payment Method                     102000 non-null  object \n",
      "dtypes: float64(9), object(12)\n",
      "memory usage: 24.0+ MB\n"
     ]
    }
   ],
   "source": [
    "data.info()"
   ]
  },
  {
   "cell_type": "code",
   "execution_count": null,
   "id": "d2a2e2df-57d2-48e0-89c0-636666bc6b62",
   "metadata": {},
   "outputs": [],
   "source": []
  },
  {
   "cell_type": "code",
   "execution_count": 8,
   "id": "ab7f52f0-7479-4986-b397-4829b62b5f28",
   "metadata": {},
   "outputs": [
    {
     "data": {
      "text/plain": [
       "Date                                      0\n",
       "Time                                      0\n",
       "Booking ID                                0\n",
       "Booking Status                            0\n",
       "Customer ID                               0\n",
       "Vehicle Type                              0\n",
       "Pickup Location                           0\n",
       "Drop Location                             0\n",
       "Avg VTAT                              10500\n",
       "Avg CTAT                              48000\n",
       "Cancelled Rides by Customer          139500\n",
       "Reason for cancelling by Customer    139500\n",
       "Cancelled Rides by Driver            123000\n",
       "Driver Cancellation Reason           123000\n",
       "Incomplete Rides                     141000\n",
       "Incomplete Rides Reason              141000\n",
       "Booking Value                         48000\n",
       "Ride Distance                         48000\n",
       "Driver Ratings                        57000\n",
       "Customer Rating                       57000\n",
       "Payment Method                        48000\n",
       "dtype: int64"
      ]
     },
     "execution_count": 8,
     "metadata": {},
     "output_type": "execute_result"
    }
   ],
   "source": [
    "data.isnull().sum()"
   ]
  },
  {
   "cell_type": "code",
   "execution_count": null,
   "id": "914f859c-0aa2-4172-83df-5a905c68c485",
   "metadata": {},
   "outputs": [],
   "source": []
  },
  {
   "cell_type": "code",
   "execution_count": null,
   "id": "f1a52bce-e086-45b0-9743-3cbcf8b09b93",
   "metadata": {},
   "outputs": [],
   "source": []
  },
  {
   "cell_type": "markdown",
   "id": "111f0d09-f625-4ca3-8856-fe5d39487ada",
   "metadata": {},
   "source": [
    "* There are 21 columns and 1,50,00 rows in our data\n",
    "* there are null values"
   ]
  },
  {
   "cell_type": "code",
   "execution_count": null,
   "id": "eb297b77-5fbb-404e-a6cf-63bf8e6bfc79",
   "metadata": {},
   "outputs": [],
   "source": []
  },
  {
   "cell_type": "code",
   "execution_count": null,
   "id": "01cf979d-39b3-4e9e-a75c-2717b66f122c",
   "metadata": {},
   "outputs": [],
   "source": []
  },
  {
   "cell_type": "markdown",
   "id": "807a0e1f-d611-432e-a771-225b7c1f498b",
   "metadata": {},
   "source": [
    "# Data Cleaning"
   ]
  },
  {
   "cell_type": "markdown",
   "id": "a11fce80-a9f4-4327-b585-1dd88bebd600",
   "metadata": {},
   "source": [
    "### AIM:-\n",
    "* cleaning data.\n",
    "* filling null values\n",
    "* making columns with matching data types.\n",
    "* Renaming column names"
   ]
  },
  {
   "cell_type": "code",
   "execution_count": null,
   "id": "3d32af6a-1c59-4855-858d-5dabf96ce213",
   "metadata": {},
   "outputs": [],
   "source": []
  },
  {
   "cell_type": "markdown",
   "id": "65fe1fba-7386-4487-b541-c932fd54c0c8",
   "metadata": {},
   "source": [
    "* Booking status have zero nulls. so, lets fill other columns byits values\n",
    "* Main coluumns to fill.\n",
    "    * Cancelled Rides by Customer          \n",
    "    * Reason for cancelling by Customer    \n",
    "    * Cancelled Rides by Driver            \n",
    "    * Driver Cancellation Reason           \n",
    "    * Incomplete Rides                     \n",
    "    * Incomplete Rides Reason              "
   ]
  },
  {
   "cell_type": "code",
   "execution_count": 9,
   "id": "9d28d1b2-6620-45cf-b51d-6f39b4b189ad",
   "metadata": {},
   "outputs": [
    {
     "data": {
      "text/plain": [
       "Booking Status\n",
       "Completed                93000\n",
       "Cancelled by Driver      27000\n",
       "No Driver Found          10500\n",
       "Cancelled by Customer    10500\n",
       "Incomplete                9000\n",
       "Name: count, dtype: int64"
      ]
     },
     "execution_count": 9,
     "metadata": {},
     "output_type": "execute_result"
    }
   ],
   "source": [
    "data[\"Booking Status\"].value_counts()"
   ]
  },
  {
   "cell_type": "code",
   "execution_count": null,
   "id": "ef443c55-8676-456f-94c1-9236e7572066",
   "metadata": {},
   "outputs": [],
   "source": []
  },
  {
   "cell_type": "markdown",
   "id": "5dfddb98-1b93-4508-8881-b8e83daa91fb",
   "metadata": {},
   "source": [
    "## First let's fill Incomplete Rides by Booking Status\n",
    "* let's fill completed with **0**if theyare null."
   ]
  },
  {
   "cell_type": "code",
   "execution_count": null,
   "id": "26e1ceed-2156-495b-89c3-7ee86f077f7d",
   "metadata": {},
   "outputs": [],
   "source": []
  },
  {
   "cell_type": "code",
   "execution_count": 10,
   "id": "fbf8a624-4caf-4809-9e10-972a4837673a",
   "metadata": {},
   "outputs": [
    {
     "data": {
      "text/plain": [
       "Incomplete Rides\n",
       "1.0    9000\n",
       "Name: count, dtype: int64"
      ]
     },
     "execution_count": 10,
     "metadata": {},
     "output_type": "execute_result"
    }
   ],
   "source": [
    "data[\"Incomplete Rides\"].value_counts()"
   ]
  },
  {
   "cell_type": "code",
   "execution_count": 11,
   "id": "20e9643f-85b6-44b2-a7d6-1418dc2b726d",
   "metadata": {},
   "outputs": [],
   "source": [
    "data[\"Incomplete Rides\"] = data[\"Incomplete Rides\"].fillna(\n",
    "    data[\"Booking Status\"].apply(lambda x: 0 if x == \"Completed\" else 1))"
   ]
  },
  {
   "cell_type": "code",
   "execution_count": 12,
   "id": "394dc6a8-3db1-47f0-b7c9-418848f893c7",
   "metadata": {},
   "outputs": [
    {
     "data": {
      "text/plain": [
       "np.int64(0)"
      ]
     },
     "execution_count": 12,
     "metadata": {},
     "output_type": "execute_result"
    }
   ],
   "source": [
    "data[\"Incomplete Rides\"].isnull().sum()"
   ]
  },
  {
   "cell_type": "code",
   "execution_count": null,
   "id": "c08fde39-83ab-46ab-a10d-2492b079fe32",
   "metadata": {},
   "outputs": [],
   "source": []
  },
  {
   "cell_type": "code",
   "execution_count": 13,
   "id": "8b083833-1588-492a-a051-d80ed6e3be10",
   "metadata": {},
   "outputs": [
    {
     "data": {
      "text/plain": [
       "Incomplete Rides\n",
       "0.0    93000\n",
       "1.0    57000\n",
       "Name: count, dtype: int64"
      ]
     },
     "execution_count": 13,
     "metadata": {},
     "output_type": "execute_result"
    }
   ],
   "source": [
    "data[\"Incomplete Rides\"].value_counts()"
   ]
  },
  {
   "cell_type": "markdown",
   "id": "ec3f2c1b-140c-4196-8cb8-88caae578a13",
   "metadata": {},
   "source": [
    "* as all nulls filled we can moveto next column"
   ]
  },
  {
   "cell_type": "code",
   "execution_count": null,
   "id": "b55d81b3-9bea-4541-b26c-4de67f9ef076",
   "metadata": {},
   "outputs": [],
   "source": []
  },
  {
   "cell_type": "markdown",
   "id": "e7042259-16d4-4db9-9775-ea799b657c1e",
   "metadata": {},
   "source": [
    "# let's fill Cancelled Rides by Customer  column"
   ]
  },
  {
   "cell_type": "code",
   "execution_count": 14,
   "id": "02c8c09c-b87c-4a51-8dc2-80437b4bd2a6",
   "metadata": {},
   "outputs": [
    {
     "data": {
      "text/plain": [
       "np.int64(139500)"
      ]
     },
     "execution_count": 14,
     "metadata": {},
     "output_type": "execute_result"
    }
   ],
   "source": [
    "data[\"Cancelled Rides by Customer\"].isnull().sum()"
   ]
  },
  {
   "cell_type": "code",
   "execution_count": 15,
   "id": "2a2692aa-f899-43fc-b61c-9ff43eed8ff1",
   "metadata": {},
   "outputs": [
    {
     "data": {
      "text/plain": [
       "Cancelled Rides by Customer\n",
       "1.0    10500\n",
       "Name: count, dtype: int64"
      ]
     },
     "execution_count": 15,
     "metadata": {},
     "output_type": "execute_result"
    }
   ],
   "source": [
    "data[\"Cancelled Rides by Customer\"].value_counts()"
   ]
  },
  {
   "cell_type": "code",
   "execution_count": 16,
   "id": "4a4a3cc7-4df6-4971-8621-b1824ffa1559",
   "metadata": {},
   "outputs": [],
   "source": [
    "data[\"Cancelled Rides by Customer\"] = data[\"Cancelled Rides by Customer\"].fillna(\n",
    "    data[\"Booking Status\"].apply(lambda x: 1 if x == \"Cancelled by Customer\" else 0 )\n",
    ")"
   ]
  },
  {
   "cell_type": "code",
   "execution_count": 17,
   "id": "bc2df881-ac88-4980-aab6-808b5dfb6912",
   "metadata": {},
   "outputs": [
    {
     "data": {
      "text/plain": [
       "Cancelled Rides by Customer\n",
       "0.0    139500\n",
       "1.0     10500\n",
       "Name: count, dtype: int64"
      ]
     },
     "execution_count": 17,
     "metadata": {},
     "output_type": "execute_result"
    }
   ],
   "source": [
    "data[\"Cancelled Rides by Customer\"].value_counts()"
   ]
  },
  {
   "cell_type": "code",
   "execution_count": null,
   "id": "6cc412fd-118e-4013-a8e9-1194c720af10",
   "metadata": {},
   "outputs": [],
   "source": []
  },
  {
   "cell_type": "markdown",
   "id": "65a562ac-fc2e-4094-a594-3c7c9daacf2d",
   "metadata": {},
   "source": [
    "* here i filled all nulls with **1** ifcanceledby customer, 0 all othes as theyare not canceled by customers"
   ]
  },
  {
   "cell_type": "code",
   "execution_count": null,
   "id": "8ccb11d5-6388-49ef-9daa-47824206961f",
   "metadata": {},
   "outputs": [],
   "source": []
  },
  {
   "cell_type": "markdown",
   "id": "47f79dd0-bc73-4cae-b068-8ae113c8b777",
   "metadata": {},
   "source": [
    "# Let'sfill Reason for cancelling by Customer."
   ]
  },
  {
   "cell_type": "code",
   "execution_count": 18,
   "id": "294246a8-d247-4ec1-8686-915cc63b4c64",
   "metadata": {},
   "outputs": [
    {
     "data": {
      "text/plain": [
       "Reason for cancelling by Customer\n",
       "Wrong Address                                   2362\n",
       "Change of plans                                 2353\n",
       "Driver is not moving towards pickup location    2335\n",
       "Driver asked to cancel                          2295\n",
       "AC is not working                               1155\n",
       "Name: count, dtype: int64"
      ]
     },
     "execution_count": 18,
     "metadata": {},
     "output_type": "execute_result"
    }
   ],
   "source": [
    "data[\"Reason for cancelling by Customer\"].value_counts()"
   ]
  },
  {
   "cell_type": "code",
   "execution_count": null,
   "id": "2f99454a-2f5a-4f6a-99b5-ef157749b937",
   "metadata": {},
   "outputs": [],
   "source": []
  },
  {
   "cell_type": "code",
   "execution_count": 19,
   "id": "e7911f61-9af5-463c-b30a-eee48d8909c4",
   "metadata": {},
   "outputs": [
    {
     "data": {
      "text/plain": [
       "np.int64(139500)"
      ]
     },
     "execution_count": 19,
     "metadata": {},
     "output_type": "execute_result"
    }
   ],
   "source": [
    "data[\"Reason for cancelling by Customer\"].isnull().sum()"
   ]
  },
  {
   "cell_type": "code",
   "execution_count": 20,
   "id": "c13c9102-e889-4950-bb95-a2fc95885448",
   "metadata": {},
   "outputs": [],
   "source": [
    "data[\"Reason for cancelling by Customer\"] = data[\"Reason for cancelling by Customer\"].fillna(\n",
    "    data[\"Booking Status\"].apply(lambda x: \"Not canceled by Customer\" if x != \"Cancelled by Customer\" else \"Cancelled by Customer\")\n",
    ")\n"
   ]
  },
  {
   "cell_type": "code",
   "execution_count": 21,
   "id": "55512b3c-8d0e-4ab9-b78f-c66004f62be4",
   "metadata": {},
   "outputs": [
    {
     "data": {
      "text/plain": [
       "Reason for cancelling by Customer\n",
       "Not canceled by Customer                        139500\n",
       "Wrong Address                                     2362\n",
       "Change of plans                                   2353\n",
       "Driver is not moving towards pickup location      2335\n",
       "Driver asked to cancel                            2295\n",
       "AC is not working                                 1155\n",
       "Name: count, dtype: int64"
      ]
     },
     "execution_count": 21,
     "metadata": {},
     "output_type": "execute_result"
    }
   ],
   "source": [
    "data[\"Reason for cancelling by Customer\"].value_counts()"
   ]
  },
  {
   "cell_type": "code",
   "execution_count": null,
   "id": "938bb615-0b01-405a-ace0-713044b7aeee",
   "metadata": {},
   "outputs": [],
   "source": []
  },
  {
   "cell_type": "markdown",
   "id": "ecf6a2de-0032-458a-8ab8-ee7f0517e886",
   "metadata": {},
   "source": [
    "* Here i will all rides which aren'tcanceled by customer to **Not canceled by Customer** as theyare not."
   ]
  },
  {
   "cell_type": "code",
   "execution_count": null,
   "id": "9f501e3a-c2ca-44c6-8ef9-a6ab868c6bb2",
   "metadata": {},
   "outputs": [],
   "source": []
  },
  {
   "cell_type": "markdown",
   "id": "48b7676a-8e97-443f-a24a-fd4ad364f8cb",
   "metadata": {},
   "source": [
    "# Let'sfill Cancelled Rides by Driver and Driver Cancellation Reason "
   ]
  },
  {
   "cell_type": "code",
   "execution_count": null,
   "id": "11a0f791-408a-4540-8d53-f386f889fe64",
   "metadata": {},
   "outputs": [],
   "source": []
  },
  {
   "cell_type": "code",
   "execution_count": 22,
   "id": "a0ac003c-905c-4e4f-8421-f1a4c1cecc60",
   "metadata": {},
   "outputs": [
    {
     "data": {
      "text/plain": [
       "Cancelled Rides by Driver\n",
       "1.0    27000\n",
       "Name: count, dtype: int64"
      ]
     },
     "execution_count": 22,
     "metadata": {},
     "output_type": "execute_result"
    }
   ],
   "source": [
    "data[\"Cancelled Rides by Driver\"].value_counts()"
   ]
  },
  {
   "cell_type": "code",
   "execution_count": null,
   "id": "13926a22-81ab-4eb8-a7c7-c8398ecaaca0",
   "metadata": {},
   "outputs": [],
   "source": []
  },
  {
   "cell_type": "code",
   "execution_count": 23,
   "id": "ecb980d8-f41d-44c5-b208-d37415c9dca6",
   "metadata": {},
   "outputs": [],
   "source": [
    "data[\"Cancelled Rides by Driver\"] = data[\"Cancelled Rides by Driver\"].fillna(\n",
    "    data[\"Booking Status\"].apply( lambda x: 1 if x == \"Cancelled by Driver\" else 0)\n",
    ")"
   ]
  },
  {
   "cell_type": "code",
   "execution_count": 24,
   "id": "a163e525-4cc6-4369-97b8-eaddfd084ed5",
   "metadata": {},
   "outputs": [
    {
     "data": {
      "text/plain": [
       "Cancelled Rides by Driver\n",
       "0.0    123000\n",
       "1.0     27000\n",
       "Name: count, dtype: int64"
      ]
     },
     "execution_count": 24,
     "metadata": {},
     "output_type": "execute_result"
    }
   ],
   "source": [
    "data[\"Cancelled Rides by Driver\"].value_counts()"
   ]
  },
  {
   "cell_type": "code",
   "execution_count": null,
   "id": "38d070fa-3963-4ab0-a6d4-b90552807d39",
   "metadata": {},
   "outputs": [],
   "source": []
  },
  {
   "cell_type": "markdown",
   "id": "6df6223e-c9be-4dd6-bbf1-ff4d17c1c7c6",
   "metadata": {},
   "source": [
    "* Here I filled with **0** if reason is not \"Cancelled by Driver\"."
   ]
  },
  {
   "cell_type": "code",
   "execution_count": null,
   "id": "fa0c43c4-ce9a-4110-8bbd-760c3e6ab18d",
   "metadata": {},
   "outputs": [],
   "source": []
  },
  {
   "cell_type": "code",
   "execution_count": 25,
   "id": "11da9d34-9f6a-4343-a768-a5122be6ee80",
   "metadata": {},
   "outputs": [
    {
     "data": {
      "text/plain": [
       "np.int64(123000)"
      ]
     },
     "execution_count": 25,
     "metadata": {},
     "output_type": "execute_result"
    }
   ],
   "source": [
    "data[\"Driver Cancellation Reason\"].isnull().sum()"
   ]
  },
  {
   "cell_type": "code",
   "execution_count": 26,
   "id": "0b5af882-da44-4bbe-9e53-569f6e92a2f8",
   "metadata": {},
   "outputs": [
    {
     "data": {
      "text/plain": [
       "Driver Cancellation Reason\n",
       "Customer related issue                 6837\n",
       "The customer was coughing/sick         6751\n",
       "Personal & Car related issues          6726\n",
       "More than permitted people in there    6686\n",
       "Name: count, dtype: int64"
      ]
     },
     "execution_count": 26,
     "metadata": {},
     "output_type": "execute_result"
    }
   ],
   "source": [
    "data[\"Driver Cancellation Reason\"].value_counts()"
   ]
  },
  {
   "cell_type": "code",
   "execution_count": null,
   "id": "247b8dc3-e649-4683-870e-99a2f762efc7",
   "metadata": {},
   "outputs": [],
   "source": []
  },
  {
   "cell_type": "code",
   "execution_count": 27,
   "id": "956e89f7-9f41-4ed2-9e66-d4ea9ad60e97",
   "metadata": {},
   "outputs": [],
   "source": [
    "data[\"Driver Cancellation Reason\"] = data[\"Driver Cancellation Reason\"].fillna(\n",
    "    data[\"Booking Status\"].apply( lambda x: \"Cancelled by Driver\" if x == \"Cancelled by Driver\" else \"Not Cancelled by Driver\")\n",
    ")"
   ]
  },
  {
   "cell_type": "code",
   "execution_count": 28,
   "id": "7dd9a307-3389-4df0-a8f2-8b1bac8d267f",
   "metadata": {},
   "outputs": [
    {
     "data": {
      "text/plain": [
       "Driver Cancellation Reason\n",
       "Not Cancelled by Driver                123000\n",
       "Customer related issue                   6837\n",
       "The customer was coughing/sick           6751\n",
       "Personal & Car related issues            6726\n",
       "More than permitted people in there      6686\n",
       "Name: count, dtype: int64"
      ]
     },
     "execution_count": 28,
     "metadata": {},
     "output_type": "execute_result"
    }
   ],
   "source": [
    "data[\"Driver Cancellation Reason\"].value_counts()"
   ]
  },
  {
   "cell_type": "code",
   "execution_count": 29,
   "id": "a2a30650-6f3f-4d4b-af4b-5c06765bef9d",
   "metadata": {},
   "outputs": [
    {
     "data": {
      "text/plain": [
       "np.int64(0)"
      ]
     },
     "execution_count": 29,
     "metadata": {},
     "output_type": "execute_result"
    }
   ],
   "source": [
    "data[\"Driver Cancellation Reason\"].isnull().sum()"
   ]
  },
  {
   "cell_type": "code",
   "execution_count": null,
   "id": "2a007bff-c35c-4ce0-8dd6-e86778835d6e",
   "metadata": {},
   "outputs": [],
   "source": []
  },
  {
   "cell_type": "markdown",
   "id": "a8f8ab2a-8276-48c1-8347-f73ded02cf8f",
   "metadata": {},
   "source": [
    "* Here I filled nulls with Not Cancelled by Driver,if in Booking status reason otherthan \"Cancelled by Driver\"."
   ]
  },
  {
   "cell_type": "code",
   "execution_count": null,
   "id": "a352b8a8-c2ca-471b-b24d-0059043e7ccb",
   "metadata": {},
   "outputs": [],
   "source": []
  },
  {
   "cell_type": "code",
   "execution_count": null,
   "id": "29bc1ba8-0eca-4412-b1e9-774aa795b1d4",
   "metadata": {},
   "outputs": [],
   "source": []
  },
  {
   "cell_type": "markdown",
   "id": "a7e932ee-fb95-41a4-8036-4934e038ecfa",
   "metadata": {},
   "source": [
    "# let's fill Avg CTAT and Avg VTAT'"
   ]
  },
  {
   "cell_type": "code",
   "execution_count": 30,
   "id": "16d7969e-0627-4f78-b08a-91d443b63767",
   "metadata": {},
   "outputs": [
    {
     "data": {
      "text/plain": [
       "np.int64(48000)"
      ]
     },
     "execution_count": 30,
     "metadata": {},
     "output_type": "execute_result"
    }
   ],
   "source": [
    "data[\"Avg CTAT\"].isnull().sum()"
   ]
  },
  {
   "cell_type": "code",
   "execution_count": 31,
   "id": "bd5da1cd-5d2a-45dd-af26-3f5fc4ed5bdf",
   "metadata": {},
   "outputs": [
    {
     "data": {
      "text/plain": [
       "Avg CTAT\n",
       "24.8    401\n",
       "25.9    389\n",
       "28.1    388\n",
       "20.5    386\n",
       "25.3    383\n",
       "       ... \n",
       "11.6     34\n",
       "11.1     34\n",
       "14.5     32\n",
       "13.8     27\n",
       "10.0     23\n",
       "Name: count, Length: 351, dtype: int64"
      ]
     },
     "execution_count": 31,
     "metadata": {},
     "output_type": "execute_result"
    }
   ],
   "source": [
    "data[\"Avg CTAT\"].value_counts()"
   ]
  },
  {
   "cell_type": "code",
   "execution_count": 32,
   "id": "0cd40162-4f06-494f-884f-16e8ed4b5267",
   "metadata": {},
   "outputs": [
    {
     "data": {
      "text/plain": [
       "Booking Status\n",
       "Completed                93000\n",
       "Cancelled by Driver      27000\n",
       "No Driver Found          10500\n",
       "Cancelled by Customer    10500\n",
       "Incomplete                9000\n",
       "Name: count, dtype: int64"
      ]
     },
     "execution_count": 32,
     "metadata": {},
     "output_type": "execute_result"
    }
   ],
   "source": [
    "data[\"Booking Status\"].value_counts()"
   ]
  },
  {
   "cell_type": "code",
   "execution_count": 33,
   "id": "7740b506-a492-4ff3-a152-947c1571773e",
   "metadata": {},
   "outputs": [],
   "source": [
    "data[\"Avg CTAT\"] = data[\"Avg CTAT\"].fillna(\n",
    "    data[\"Booking Status\"].map( lambda x: 0 if x != \"Completed\" else None)\n",
    ")"
   ]
  },
  {
   "cell_type": "code",
   "execution_count": 34,
   "id": "7c861153-0311-4bc1-8c34-dff49418ab55",
   "metadata": {},
   "outputs": [
    {
     "data": {
      "text/plain": [
       "np.int64(0)"
      ]
     },
     "execution_count": 34,
     "metadata": {},
     "output_type": "execute_result"
    }
   ],
   "source": [
    "data[\"Avg CTAT\"].isnull().sum()"
   ]
  },
  {
   "cell_type": "code",
   "execution_count": null,
   "id": "d34d5a68-fa26-4b99-ba19-aca0cbef40f8",
   "metadata": {},
   "outputs": [],
   "source": []
  },
  {
   "cell_type": "code",
   "execution_count": 35,
   "id": "6f73328f-f054-4c7d-8123-18aa511750d6",
   "metadata": {},
   "outputs": [
    {
     "data": {
      "text/plain": [
       "Avg VTAT\n",
       "9.4     1259\n",
       "6.0     1249\n",
       "5.8     1248\n",
       "9.5     1246\n",
       "6.5     1239\n",
       "        ... \n",
       "19.1      59\n",
       "19.5      57\n",
       "18.5      56\n",
       "18.9      55\n",
       "20.0      38\n",
       "Name: count, Length: 181, dtype: int64"
      ]
     },
     "execution_count": 35,
     "metadata": {},
     "output_type": "execute_result"
    }
   ],
   "source": [
    "data[\"Avg VTAT\"].value_counts()"
   ]
  },
  {
   "cell_type": "code",
   "execution_count": 36,
   "id": "624b8099-0e43-4467-96e5-2683866f82a6",
   "metadata": {},
   "outputs": [
    {
     "data": {
      "text/plain": [
       "np.int64(10500)"
      ]
     },
     "execution_count": 36,
     "metadata": {},
     "output_type": "execute_result"
    }
   ],
   "source": [
    "data[\"Avg VTAT\"].isnull().sum()"
   ]
  },
  {
   "cell_type": "code",
   "execution_count": null,
   "id": "e49fffe0-613d-4145-a858-025cfaaa959d",
   "metadata": {},
   "outputs": [],
   "source": []
  },
  {
   "cell_type": "code",
   "execution_count": 37,
   "id": "28d7bc3e-0500-44d8-89eb-eac267b9e47c",
   "metadata": {},
   "outputs": [],
   "source": [
    "data[\"Avg VTAT\"] = data[\"Avg VTAT\"].fillna(\n",
    "    data[\"Booking Status\"].map(lambda x: 0 if x!= \"Completed\" else None)\n",
    ")"
   ]
  },
  {
   "cell_type": "code",
   "execution_count": 38,
   "id": "4a4594f8-54ad-42cc-9b6f-cb69ec986ab8",
   "metadata": {},
   "outputs": [
    {
     "data": {
      "text/plain": [
       "np.int64(0)"
      ]
     },
     "execution_count": 38,
     "metadata": {},
     "output_type": "execute_result"
    }
   ],
   "source": [
    "data[\"Avg VTAT\"].isnull().sum()"
   ]
  },
  {
   "cell_type": "code",
   "execution_count": null,
   "id": "45aa9fb7-28bc-4622-bc55-07003ba9d3b1",
   "metadata": {},
   "outputs": [],
   "source": []
  },
  {
   "cell_type": "markdown",
   "id": "b8188e81-ddf1-408b-8b26-dfc4beb69c56",
   "metadata": {},
   "source": [
    "* Here I filled Avg VTAT and Avg CTAT with 0 if rides are not completed."
   ]
  },
  {
   "cell_type": "code",
   "execution_count": null,
   "id": "a1a734c8-8c71-4f26-8c23-fdc0f60de34f",
   "metadata": {},
   "outputs": [],
   "source": []
  },
  {
   "cell_type": "markdown",
   "id": "eff95220-66d2-451b-9ec2-068007c46450",
   "metadata": {},
   "source": [
    "# Let's fill Incomplete Rides Reason."
   ]
  },
  {
   "cell_type": "code",
   "execution_count": null,
   "id": "90f880d8-dc9c-4a3f-aa25-f965bf25dd92",
   "metadata": {},
   "outputs": [],
   "source": []
  },
  {
   "cell_type": "code",
   "execution_count": 39,
   "id": "cc23f25e-e962-4d57-b3db-ad95b4c7e6ed",
   "metadata": {},
   "outputs": [
    {
     "data": {
      "text/plain": [
       "Incomplete Rides Reason\n",
       "Customer Demand      3040\n",
       "Vehicle Breakdown    3012\n",
       "Other Issue          2948\n",
       "Name: count, dtype: int64"
      ]
     },
     "execution_count": 39,
     "metadata": {},
     "output_type": "execute_result"
    }
   ],
   "source": [
    "data[\"Incomplete Rides Reason\"].value_counts()"
   ]
  },
  {
   "cell_type": "code",
   "execution_count": 40,
   "id": "edcf4d2a-2c64-4320-8656-b139e6a590e6",
   "metadata": {},
   "outputs": [
    {
     "data": {
      "text/plain": [
       "np.int64(141000)"
      ]
     },
     "execution_count": 40,
     "metadata": {},
     "output_type": "execute_result"
    }
   ],
   "source": [
    "data[\"Incomplete Rides Reason\"].isnull().sum()"
   ]
  },
  {
   "cell_type": "code",
   "execution_count": null,
   "id": "0489e8fc-eaa8-4ff9-88a6-f57cff88087f",
   "metadata": {},
   "outputs": [],
   "source": []
  },
  {
   "cell_type": "code",
   "execution_count": 41,
   "id": "bed7b185-dd64-43b6-a04c-1d90de410492",
   "metadata": {},
   "outputs": [],
   "source": [
    "data[\"Incomplete Rides Reason\"] = data[\"Incomplete Rides Reason\"].fillna(\n",
    "    data[\"Booking Status\"].map(lambda x: \"Not Incomplete\" if x == \"Completed\" else x)\n",
    ")"
   ]
  },
  {
   "cell_type": "code",
   "execution_count": 42,
   "id": "491c0318-5ad5-481f-9f13-a944545d0b89",
   "metadata": {},
   "outputs": [
    {
     "data": {
      "text/plain": [
       "Booking Status\n",
       "Completed                93000\n",
       "Cancelled by Driver      27000\n",
       "No Driver Found          10500\n",
       "Cancelled by Customer    10500\n",
       "Incomplete                9000\n",
       "Name: count, dtype: int64"
      ]
     },
     "execution_count": 42,
     "metadata": {},
     "output_type": "execute_result"
    }
   ],
   "source": [
    "data[\"Booking Status\"].value_counts()"
   ]
  },
  {
   "cell_type": "code",
   "execution_count": 43,
   "id": "22232199-4a98-4831-9690-e6c59c3346e2",
   "metadata": {},
   "outputs": [
    {
     "data": {
      "text/plain": [
       "np.int64(0)"
      ]
     },
     "execution_count": 43,
     "metadata": {},
     "output_type": "execute_result"
    }
   ],
   "source": [
    "data[\"Incomplete Rides Reason\"].isnull().sum()"
   ]
  },
  {
   "cell_type": "code",
   "execution_count": null,
   "id": "646f1f90-738e-40a5-bc8f-4818f814d951",
   "metadata": {},
   "outputs": [],
   "source": []
  },
  {
   "cell_type": "markdown",
   "id": "875c9bc1-0e7c-452b-acfa-fb30620e9726",
   "metadata": {},
   "source": [
    "* I filled all reason came as Booking status if completed then Not Incomplete"
   ]
  },
  {
   "cell_type": "code",
   "execution_count": null,
   "id": "fb94b545-75e7-4edb-bba2-b2452a5eb3f8",
   "metadata": {},
   "outputs": [],
   "source": []
  },
  {
   "cell_type": "code",
   "execution_count": 44,
   "id": "2d92cea4-791e-4961-89df-5b2bf7fa9f56",
   "metadata": {},
   "outputs": [
    {
     "data": {
      "text/plain": [
       "Date                                     0\n",
       "Time                                     0\n",
       "Booking ID                               0\n",
       "Booking Status                           0\n",
       "Customer ID                              0\n",
       "Vehicle Type                             0\n",
       "Pickup Location                          0\n",
       "Drop Location                            0\n",
       "Avg VTAT                                 0\n",
       "Avg CTAT                                 0\n",
       "Cancelled Rides by Customer              0\n",
       "Reason for cancelling by Customer        0\n",
       "Cancelled Rides by Driver                0\n",
       "Driver Cancellation Reason               0\n",
       "Incomplete Rides                         0\n",
       "Incomplete Rides Reason                  0\n",
       "Booking Value                        48000\n",
       "Ride Distance                        48000\n",
       "Driver Ratings                       57000\n",
       "Customer Rating                      57000\n",
       "Payment Method                       48000\n",
       "dtype: int64"
      ]
     },
     "execution_count": 44,
     "metadata": {},
     "output_type": "execute_result"
    }
   ],
   "source": [
    "data.isnull().sum()"
   ]
  },
  {
   "cell_type": "code",
   "execution_count": null,
   "id": "4a92027b-f148-40d4-aa64-bedbc982fd1d",
   "metadata": {},
   "outputs": [],
   "source": []
  },
  {
   "cell_type": "markdown",
   "id": "02c9f976-7b90-4e33-85fe-e694e1a9df33",
   "metadata": {},
   "source": [
    "# Let's fill Booking Value, Ride Distance and Payment Method"
   ]
  },
  {
   "cell_type": "code",
   "execution_count": null,
   "id": "bb812da7-dc3c-4948-8d02-7596298cc19b",
   "metadata": {},
   "outputs": [],
   "source": []
  },
  {
   "cell_type": "code",
   "execution_count": 45,
   "id": "6e30107d-cc6c-4e7e-980c-1c7f107d4527",
   "metadata": {},
   "outputs": [
    {
     "data": {
      "text/plain": [
       "np.int64(48000)"
      ]
     },
     "execution_count": 45,
     "metadata": {},
     "output_type": "execute_result"
    }
   ],
   "source": [
    "data[\"Booking Value\"].isnull().sum()"
   ]
  },
  {
   "cell_type": "code",
   "execution_count": 46,
   "id": "18ed97b4-c515-490a-a8b8-59b247771d23",
   "metadata": {},
   "outputs": [],
   "source": [
    "data[\"Booking Value\"] = data[\"Booking Value\"].fillna(\n",
    "    data[\"Booking Status\"].map(lambda x: 0 if x!= \"Completed\" else None)\n",
    ")"
   ]
  },
  {
   "cell_type": "code",
   "execution_count": 47,
   "id": "1c5cd6cc-e26c-4b4f-aee7-4ab447cc963c",
   "metadata": {},
   "outputs": [
    {
     "data": {
      "text/plain": [
       "np.int64(0)"
      ]
     },
     "execution_count": 47,
     "metadata": {},
     "output_type": "execute_result"
    }
   ],
   "source": [
    "data[\"Booking Value\"].isnull().sum()"
   ]
  },
  {
   "cell_type": "code",
   "execution_count": null,
   "id": "685ddc2c-7e00-4f3c-bfb6-2a8a46d4d47d",
   "metadata": {},
   "outputs": [],
   "source": []
  },
  {
   "cell_type": "code",
   "execution_count": 48,
   "id": "031c29f5-bcad-45fd-b973-cde3c0be159b",
   "metadata": {},
   "outputs": [
    {
     "data": {
      "text/plain": [
       "np.int64(48000)"
      ]
     },
     "execution_count": 48,
     "metadata": {},
     "output_type": "execute_result"
    }
   ],
   "source": [
    "data[\"Ride Distance\"].isnull().sum()"
   ]
  },
  {
   "cell_type": "code",
   "execution_count": 49,
   "id": "cae7e15a-e10f-40f4-bc41-b3257e7205df",
   "metadata": {},
   "outputs": [],
   "source": [
    "data[\"Ride Distance\"] = data[\"Ride Distance\"].fillna(\n",
    "    data[\"Ride Distance\"].map(lambda x: 0 if x != \"Completed\" else None )\n",
    ")"
   ]
  },
  {
   "cell_type": "code",
   "execution_count": 50,
   "id": "f3cc8d65-4b24-4cf6-8313-fad9860dbf41",
   "metadata": {},
   "outputs": [
    {
     "data": {
      "text/plain": [
       "np.int64(0)"
      ]
     },
     "execution_count": 50,
     "metadata": {},
     "output_type": "execute_result"
    }
   ],
   "source": [
    "data[\"Ride Distance\"].isnull().sum()"
   ]
  },
  {
   "cell_type": "code",
   "execution_count": null,
   "id": "6782ad94-89f8-412e-9e23-26e058cffc23",
   "metadata": {},
   "outputs": [],
   "source": []
  },
  {
   "cell_type": "code",
   "execution_count": 51,
   "id": "a60171f5-1be1-4dc1-b52c-388a9c14c2a3",
   "metadata": {},
   "outputs": [
    {
     "data": {
      "text/plain": [
       "np.int64(48000)"
      ]
     },
     "execution_count": 51,
     "metadata": {},
     "output_type": "execute_result"
    }
   ],
   "source": [
    "data[\"Payment Method\"].isnull().sum()"
   ]
  },
  {
   "cell_type": "code",
   "execution_count": 52,
   "id": "de3c1178-2a07-4efd-944d-ca567a92d3ab",
   "metadata": {},
   "outputs": [],
   "source": [
    "data[\"Payment Method\"] = data[\"Payment Method\"].fillna(\n",
    "    data[\"Booking Status\"].map(lambda x: \"No Payment\" if x!= \"Completed\" else None)\n",
    ")"
   ]
  },
  {
   "cell_type": "code",
   "execution_count": 53,
   "id": "28148d84-23c7-4d8b-8f6f-545a81b46513",
   "metadata": {},
   "outputs": [
    {
     "data": {
      "text/plain": [
       "np.int64(0)"
      ]
     },
     "execution_count": 53,
     "metadata": {},
     "output_type": "execute_result"
    }
   ],
   "source": [
    "data[\"Payment Method\"].isnull().sum()"
   ]
  },
  {
   "cell_type": "code",
   "execution_count": null,
   "id": "ff1a8278-9444-4cb8-9b96-b445fa6adcdb",
   "metadata": {},
   "outputs": [],
   "source": []
  },
  {
   "cell_type": "markdown",
   "id": "9fcbb9a5-bcb9-460f-9342-0dd75546af47",
   "metadata": {},
   "source": [
    "* Here i filled Booking Value, Ride Distance and Payment Method with 0 if booking status is not completed.\n",
    "* because if not completed distance never happed.\n",
    "* value never payed\n",
    "* no value means no payment method"
   ]
  },
  {
   "cell_type": "code",
   "execution_count": null,
   "id": "8c5944d9-589c-4b2f-b3b8-fb8ee4910bc5",
   "metadata": {},
   "outputs": [],
   "source": []
  },
  {
   "cell_type": "code",
   "execution_count": null,
   "id": "b324c59b-dbc3-468a-b586-e0d569c27a39",
   "metadata": {},
   "outputs": [],
   "source": []
  },
  {
   "cell_type": "markdown",
   "id": "d3cc6d32-9f1e-4298-b28d-3c9e57f4c733",
   "metadata": {},
   "source": [
    "# Let's fill Driver Ratings and Customer Rating"
   ]
  },
  {
   "cell_type": "code",
   "execution_count": null,
   "id": "97f6d4a8-4871-4ef8-915f-2362d4ac691f",
   "metadata": {},
   "outputs": [],
   "source": []
  },
  {
   "cell_type": "code",
   "execution_count": 54,
   "id": "98a378df-277a-47e6-8880-09dac8511260",
   "metadata": {},
   "outputs": [
    {
     "data": {
      "text/plain": [
       "np.int64(57000)"
      ]
     },
     "execution_count": 54,
     "metadata": {},
     "output_type": "execute_result"
    }
   ],
   "source": [
    "data[\"Driver Ratings\"].isnull().sum()"
   ]
  },
  {
   "cell_type": "code",
   "execution_count": 55,
   "id": "914ea104-6693-4dec-87b6-ceb958deac47",
   "metadata": {},
   "outputs": [],
   "source": [
    "data[\"Driver Ratings\"] = data[\"Driver Ratings\"].fillna(\n",
    "    data[\"Booking Status\"].map(lambda x: 0 if x != \"Completed\" else None )\n",
    ")"
   ]
  },
  {
   "cell_type": "code",
   "execution_count": 56,
   "id": "c4ab4d68-4c46-4ed4-811a-0f9c53a9b41c",
   "metadata": {},
   "outputs": [
    {
     "data": {
      "text/plain": [
       "np.int64(0)"
      ]
     },
     "execution_count": 56,
     "metadata": {},
     "output_type": "execute_result"
    }
   ],
   "source": [
    "data[\"Driver Ratings\"].isnull().sum()"
   ]
  },
  {
   "cell_type": "code",
   "execution_count": null,
   "id": "fe74a351-5e7d-4613-864e-c836b669d94e",
   "metadata": {},
   "outputs": [],
   "source": []
  },
  {
   "cell_type": "code",
   "execution_count": 57,
   "id": "d45706e8-c7d0-4298-9dc1-04c5df63ecc8",
   "metadata": {},
   "outputs": [
    {
     "data": {
      "text/plain": [
       "np.int64(57000)"
      ]
     },
     "execution_count": 57,
     "metadata": {},
     "output_type": "execute_result"
    }
   ],
   "source": [
    "data[\"Customer Rating\"].isnull().sum()"
   ]
  },
  {
   "cell_type": "code",
   "execution_count": 58,
   "id": "fdbe6fec-e437-41d4-b98d-70ebd249be75",
   "metadata": {},
   "outputs": [],
   "source": [
    "data[\"Customer Rating\"] = data[\"Customer Rating\"].fillna(\n",
    "    data[\"Booking Status\"].map(lambda x: 0 if x != \"Completed\" else None)\n",
    ")"
   ]
  },
  {
   "cell_type": "code",
   "execution_count": 59,
   "id": "4c66558b-07e7-4326-ba66-7870a4ad1134",
   "metadata": {},
   "outputs": [
    {
     "data": {
      "text/plain": [
       "np.int64(0)"
      ]
     },
     "execution_count": 59,
     "metadata": {},
     "output_type": "execute_result"
    }
   ],
   "source": [
    "data[\"Customer Rating\"].isnull().sum()"
   ]
  },
  {
   "cell_type": "code",
   "execution_count": null,
   "id": "d1b09f77-2b63-4712-b406-62e930e35e67",
   "metadata": {},
   "outputs": [],
   "source": []
  },
  {
   "cell_type": "code",
   "execution_count": null,
   "id": "64a32bd5-b66d-43ab-9c61-3f9e9a94036b",
   "metadata": {},
   "outputs": [],
   "source": []
  },
  {
   "cell_type": "markdown",
   "id": "b6603494-e5c3-47c9-ad3c-c17fb94b7d23",
   "metadata": {},
   "source": [
    "# Data Transformation\n",
    "## Aim\n",
    "* To change data types to correct data types"
   ]
  },
  {
   "cell_type": "code",
   "execution_count": null,
   "id": "abe77877-c026-4b80-866f-e8c79247bbff",
   "metadata": {},
   "outputs": [],
   "source": []
  },
  {
   "cell_type": "code",
   "execution_count": 60,
   "id": "4b23509a-3080-41da-8642-db71973e7da5",
   "metadata": {},
   "outputs": [
    {
     "name": "stdout",
     "output_type": "stream",
     "text": [
      "<class 'pandas.core.frame.DataFrame'>\n",
      "RangeIndex: 150000 entries, 0 to 149999\n",
      "Data columns (total 21 columns):\n",
      " #   Column                             Non-Null Count   Dtype  \n",
      "---  ------                             --------------   -----  \n",
      " 0   Date                               150000 non-null  object \n",
      " 1   Time                               150000 non-null  object \n",
      " 2   Booking ID                         150000 non-null  object \n",
      " 3   Booking Status                     150000 non-null  object \n",
      " 4   Customer ID                        150000 non-null  object \n",
      " 5   Vehicle Type                       150000 non-null  object \n",
      " 6   Pickup Location                    150000 non-null  object \n",
      " 7   Drop Location                      150000 non-null  object \n",
      " 8   Avg VTAT                           150000 non-null  float64\n",
      " 9   Avg CTAT                           150000 non-null  float64\n",
      " 10  Cancelled Rides by Customer        150000 non-null  float64\n",
      " 11  Reason for cancelling by Customer  150000 non-null  object \n",
      " 12  Cancelled Rides by Driver          150000 non-null  float64\n",
      " 13  Driver Cancellation Reason         150000 non-null  object \n",
      " 14  Incomplete Rides                   150000 non-null  float64\n",
      " 15  Incomplete Rides Reason            150000 non-null  object \n",
      " 16  Booking Value                      150000 non-null  float64\n",
      " 17  Ride Distance                      150000 non-null  float64\n",
      " 18  Driver Ratings                     150000 non-null  float64\n",
      " 19  Customer Rating                    150000 non-null  float64\n",
      " 20  Payment Method                     150000 non-null  object \n",
      "dtypes: float64(9), object(12)\n",
      "memory usage: 24.0+ MB\n"
     ]
    }
   ],
   "source": [
    "data.info()"
   ]
  },
  {
   "cell_type": "code",
   "execution_count": null,
   "id": "d094e9f9-9920-4b50-9b70-895649e91b5c",
   "metadata": {},
   "outputs": [],
   "source": []
  },
  {
   "cell_type": "markdown",
   "id": "22d8370c-87c4-4472-ade1-dfe791794f9e",
   "metadata": {},
   "source": [
    "### Let's change Object data types to categorical"
   ]
  },
  {
   "cell_type": "code",
   "execution_count": null,
   "id": "60ef75ff-3218-46b5-b7b4-6d747633f658",
   "metadata": {},
   "outputs": [],
   "source": []
  },
  {
   "cell_type": "code",
   "execution_count": 61,
   "id": "4f3b6c4d-02f9-488a-a19c-326a63131eca",
   "metadata": {},
   "outputs": [],
   "source": [
    "cat = [\n",
    "    \"Booking ID\",\n",
    "    \"Booking Status\",\n",
    "    \"Customer ID\",\n",
    "    'Vehicle Type', 'Pickup Location', 'Drop Location',\n",
    "    \"Reason for cancelling by Customer\",\"Incomplete Rides Reason\",\"Payment Method\"]\n",
    "\n",
    "for i in cat:\n",
    "    data[i] = data[i].astype(\"category\")"
   ]
  },
  {
   "cell_type": "code",
   "execution_count": null,
   "id": "8b3e39d6-80cb-4f67-8f49-fc2a23e867b7",
   "metadata": {},
   "outputs": [],
   "source": []
  },
  {
   "cell_type": "code",
   "execution_count": 62,
   "id": "0c94743d-32f4-49f3-94f3-8c275c7bda99",
   "metadata": {},
   "outputs": [
    {
     "name": "stdout",
     "output_type": "stream",
     "text": [
      "<class 'pandas.core.frame.DataFrame'>\n",
      "RangeIndex: 150000 entries, 0 to 149999\n",
      "Data columns (total 21 columns):\n",
      " #   Column                             Non-Null Count   Dtype   \n",
      "---  ------                             --------------   -----   \n",
      " 0   Date                               150000 non-null  object  \n",
      " 1   Time                               150000 non-null  object  \n",
      " 2   Booking ID                         150000 non-null  category\n",
      " 3   Booking Status                     150000 non-null  category\n",
      " 4   Customer ID                        150000 non-null  category\n",
      " 5   Vehicle Type                       150000 non-null  category\n",
      " 6   Pickup Location                    150000 non-null  category\n",
      " 7   Drop Location                      150000 non-null  category\n",
      " 8   Avg VTAT                           150000 non-null  float64 \n",
      " 9   Avg CTAT                           150000 non-null  float64 \n",
      " 10  Cancelled Rides by Customer        150000 non-null  float64 \n",
      " 11  Reason for cancelling by Customer  150000 non-null  category\n",
      " 12  Cancelled Rides by Driver          150000 non-null  float64 \n",
      " 13  Driver Cancellation Reason         150000 non-null  object  \n",
      " 14  Incomplete Rides                   150000 non-null  float64 \n",
      " 15  Incomplete Rides Reason            150000 non-null  category\n",
      " 16  Booking Value                      150000 non-null  float64 \n",
      " 17  Ride Distance                      150000 non-null  float64 \n",
      " 18  Driver Ratings                     150000 non-null  float64 \n",
      " 19  Customer Rating                    150000 non-null  float64 \n",
      " 20  Payment Method                     150000 non-null  category\n",
      "dtypes: category(9), float64(9), object(3)\n",
      "memory usage: 26.5+ MB\n"
     ]
    }
   ],
   "source": [
    "data.info()"
   ]
  },
  {
   "cell_type": "code",
   "execution_count": null,
   "id": "ceb04f62-f20f-4de2-9d65-80a12f818b02",
   "metadata": {},
   "outputs": [],
   "source": []
  },
  {
   "cell_type": "markdown",
   "id": "599ed5bd-47d1-4f24-ae32-18e16c0bc3f6",
   "metadata": {},
   "source": [
    "## Let's change data and time to date and time format."
   ]
  },
  {
   "cell_type": "code",
   "execution_count": null,
   "id": "c1e71f2b-fa0a-4cc8-9617-d300e33877dc",
   "metadata": {},
   "outputs": [],
   "source": []
  },
  {
   "cell_type": "code",
   "execution_count": 63,
   "id": "efbccd6b-b766-49eb-ab01-6eb8bab8accb",
   "metadata": {},
   "outputs": [
    {
     "name": "stderr",
     "output_type": "stream",
     "text": [
      "C:\\Users\\Sai charan\\AppData\\Local\\Temp\\ipykernel_15380\\1204079337.py:2: UserWarning: Could not infer format, so each element will be parsed individually, falling back to `dateutil`. To ensure parsing is consistent and as-expected, please specify a format.\n",
      "  data[\"Time\"] = pd.to_datetime(data[\"Time\"], errors=\"coerce\")\n"
     ]
    }
   ],
   "source": [
    "data[\"Date\"] = pd.to_datetime(data[\"Date\"], errors=\"coerce\")\n",
    "data[\"Time\"] = pd.to_datetime(data[\"Time\"], errors=\"coerce\")"
   ]
  },
  {
   "cell_type": "code",
   "execution_count": 64,
   "id": "366b28c3-3485-4698-897e-6399b0142dff",
   "metadata": {},
   "outputs": [
    {
     "name": "stdout",
     "output_type": "stream",
     "text": [
      "<class 'pandas.core.frame.DataFrame'>\n",
      "RangeIndex: 150000 entries, 0 to 149999\n",
      "Data columns (total 21 columns):\n",
      " #   Column                             Non-Null Count   Dtype         \n",
      "---  ------                             --------------   -----         \n",
      " 0   Date                               150000 non-null  datetime64[ns]\n",
      " 1   Time                               150000 non-null  datetime64[ns]\n",
      " 2   Booking ID                         150000 non-null  category      \n",
      " 3   Booking Status                     150000 non-null  category      \n",
      " 4   Customer ID                        150000 non-null  category      \n",
      " 5   Vehicle Type                       150000 non-null  category      \n",
      " 6   Pickup Location                    150000 non-null  category      \n",
      " 7   Drop Location                      150000 non-null  category      \n",
      " 8   Avg VTAT                           150000 non-null  float64       \n",
      " 9   Avg CTAT                           150000 non-null  float64       \n",
      " 10  Cancelled Rides by Customer        150000 non-null  float64       \n",
      " 11  Reason for cancelling by Customer  150000 non-null  category      \n",
      " 12  Cancelled Rides by Driver          150000 non-null  float64       \n",
      " 13  Driver Cancellation Reason         150000 non-null  object        \n",
      " 14  Incomplete Rides                   150000 non-null  float64       \n",
      " 15  Incomplete Rides Reason            150000 non-null  category      \n",
      " 16  Booking Value                      150000 non-null  float64       \n",
      " 17  Ride Distance                      150000 non-null  float64       \n",
      " 18  Driver Ratings                     150000 non-null  float64       \n",
      " 19  Customer Rating                    150000 non-null  float64       \n",
      " 20  Payment Method                     150000 non-null  category      \n",
      "dtypes: category(9), datetime64[ns](2), float64(9), object(1)\n",
      "memory usage: 26.5+ MB\n"
     ]
    }
   ],
   "source": [
    "data.info()"
   ]
  },
  {
   "cell_type": "code",
   "execution_count": null,
   "id": "eb4f2dab-491f-4edd-95c5-1524d0d5c893",
   "metadata": {},
   "outputs": [],
   "source": []
  },
  {
   "cell_type": "markdown",
   "id": "5bf3298e-0489-4bab-ac6e-20ad9cd350ae",
   "metadata": {},
   "source": [
    "# Let's change Cancelled Rides by Driver, Incomplete Rides and Cancelled Rides by Customer to int from float"
   ]
  },
  {
   "cell_type": "code",
   "execution_count": null,
   "id": "164f0dfb-f335-4df6-a9b7-8de9f7374ab2",
   "metadata": {},
   "outputs": [],
   "source": []
  },
  {
   "cell_type": "code",
   "execution_count": 65,
   "id": "102cd827-3a5a-479e-879a-c6830f7337a4",
   "metadata": {},
   "outputs": [],
   "source": [
    "f = [\"Cancelled Rides by Driver\", \"Incomplete Rides\", \"Cancelled Rides by Customer\"]\n",
    "for i in f:\n",
    "    data[i]  = data[i].astype(\"int\")"
   ]
  },
  {
   "cell_type": "code",
   "execution_count": 66,
   "id": "16f98e62-a384-45d6-87fe-66eb3d0ffe07",
   "metadata": {},
   "outputs": [
    {
     "name": "stdout",
     "output_type": "stream",
     "text": [
      "<class 'pandas.core.frame.DataFrame'>\n",
      "RangeIndex: 150000 entries, 0 to 149999\n",
      "Data columns (total 21 columns):\n",
      " #   Column                             Non-Null Count   Dtype         \n",
      "---  ------                             --------------   -----         \n",
      " 0   Date                               150000 non-null  datetime64[ns]\n",
      " 1   Time                               150000 non-null  datetime64[ns]\n",
      " 2   Booking ID                         150000 non-null  category      \n",
      " 3   Booking Status                     150000 non-null  category      \n",
      " 4   Customer ID                        150000 non-null  category      \n",
      " 5   Vehicle Type                       150000 non-null  category      \n",
      " 6   Pickup Location                    150000 non-null  category      \n",
      " 7   Drop Location                      150000 non-null  category      \n",
      " 8   Avg VTAT                           150000 non-null  float64       \n",
      " 9   Avg CTAT                           150000 non-null  float64       \n",
      " 10  Cancelled Rides by Customer        150000 non-null  int64         \n",
      " 11  Reason for cancelling by Customer  150000 non-null  category      \n",
      " 12  Cancelled Rides by Driver          150000 non-null  int64         \n",
      " 13  Driver Cancellation Reason         150000 non-null  object        \n",
      " 14  Incomplete Rides                   150000 non-null  int64         \n",
      " 15  Incomplete Rides Reason            150000 non-null  category      \n",
      " 16  Booking Value                      150000 non-null  float64       \n",
      " 17  Ride Distance                      150000 non-null  float64       \n",
      " 18  Driver Ratings                     150000 non-null  float64       \n",
      " 19  Customer Rating                    150000 non-null  float64       \n",
      " 20  Payment Method                     150000 non-null  category      \n",
      "dtypes: category(9), datetime64[ns](2), float64(6), int64(3), object(1)\n",
      "memory usage: 26.5+ MB\n"
     ]
    }
   ],
   "source": [
    "data.info()"
   ]
  },
  {
   "cell_type": "code",
   "execution_count": null,
   "id": "9681e436-0a11-4ac5-b2b3-94f49b8604ee",
   "metadata": {},
   "outputs": [],
   "source": []
  },
  {
   "cell_type": "markdown",
   "id": "3da7c14e-d8cf-434c-bc67-6f89b5391a3a",
   "metadata": {},
   "source": [
    "# Let's see are their any duplicates"
   ]
  },
  {
   "cell_type": "code",
   "execution_count": null,
   "id": "4bea9a6d-e57b-4966-93fb-6a2e71122344",
   "metadata": {},
   "outputs": [],
   "source": []
  },
  {
   "cell_type": "code",
   "execution_count": 67,
   "id": "b9207d51-b11b-4c8b-b768-d60c9993094d",
   "metadata": {},
   "outputs": [
    {
     "data": {
      "text/plain": [
       "np.int64(1233)"
      ]
     },
     "execution_count": 67,
     "metadata": {},
     "output_type": "execute_result"
    }
   ],
   "source": [
    "data[\"Booking ID\"].duplicated().sum()"
   ]
  },
  {
   "cell_type": "markdown",
   "id": "5986697e-2148-4888-98a8-9246c4ff5e0f",
   "metadata": {},
   "source": [
    "# LEt's drop dupilicates by keeping first occurance"
   ]
  },
  {
   "cell_type": "code",
   "execution_count": 68,
   "id": "b923f668-5cd3-4e7b-ab1d-ca68f332f3c0",
   "metadata": {},
   "outputs": [],
   "source": [
    "data = data.drop_duplicates(subset=\"Booking ID\", keep=\"first\")"
   ]
  },
  {
   "cell_type": "code",
   "execution_count": null,
   "id": "3958ac31-47e3-44e3-aad9-85d5fe147e76",
   "metadata": {},
   "outputs": [],
   "source": []
  },
  {
   "cell_type": "code",
   "execution_count": null,
   "id": "7da5281e-b7d7-437f-9f93-b94bc470bd59",
   "metadata": {},
   "outputs": [],
   "source": []
  },
  {
   "cell_type": "markdown",
   "id": "a8d26b3c-00e8-4334-af5f-07715ad671d7",
   "metadata": {},
   "source": [
    "# I want to addfew columns\n",
    "* I want to add months and month names\n",
    "* I want to add time segments.\n",
    "* I want week and week days"
   ]
  },
  {
   "cell_type": "code",
   "execution_count": null,
   "id": "3f0232ef-92be-45ff-9054-c5e3ac3935af",
   "metadata": {},
   "outputs": [],
   "source": []
  },
  {
   "cell_type": "code",
   "execution_count": 69,
   "id": "0deeda43-3b54-4286-a956-f67f95df5790",
   "metadata": {},
   "outputs": [],
   "source": [
    "data[\"Month\"] = data[\"Date\"].dt.month"
   ]
  },
  {
   "cell_type": "code",
   "execution_count": 70,
   "id": "2efbf67f-f401-4439-935d-c65cf28e2cf3",
   "metadata": {},
   "outputs": [],
   "source": [
    "data[\"Month Name\"] = data[\"Date\"].dt.month_name()"
   ]
  },
  {
   "cell_type": "code",
   "execution_count": null,
   "id": "9d9de1f4-4413-40a0-801a-39c761c500a7",
   "metadata": {},
   "outputs": [],
   "source": []
  },
  {
   "cell_type": "code",
   "execution_count": 71,
   "id": "7180ec05-b2d8-4566-a4ca-12fab56f5413",
   "metadata": {},
   "outputs": [],
   "source": [
    "data[\"Hour\"] = data[\"Time\"].dt.hour"
   ]
  },
  {
   "cell_type": "code",
   "execution_count": 72,
   "id": "ba1f6339-f598-4d41-afd8-514122ebf83a",
   "metadata": {},
   "outputs": [],
   "source": [
    "def time_segment(hour):\n",
    "    if hour>= 6 and hour <12:\n",
    "        return 1\n",
    "    elif hour >= 12 and hour <17:\n",
    "        return 2\n",
    "    elif hour >=17 and hour <21:\n",
    "        return 3\n",
    "    else:\n",
    "        return 4\n",
    "\n",
    "data[\"Time Segment\"] = data[\"Hour\"].apply(time_segment)"
   ]
  },
  {
   "cell_type": "code",
   "execution_count": null,
   "id": "e0abd779-3601-489b-b56b-445db8645fdc",
   "metadata": {},
   "outputs": [],
   "source": []
  },
  {
   "cell_type": "code",
   "execution_count": 73,
   "id": "a03402f5-2248-4755-931d-1467fba9a81d",
   "metadata": {},
   "outputs": [],
   "source": [
    "def time_segment_n(seg):\n",
    "    if seg == 1:\n",
    "        return \"Morning\"\n",
    "    elif seg == 2:\n",
    "        return \"Noon\"\n",
    "    elif seg == 3:\n",
    "        return \"Evening\"\n",
    "    else:\n",
    "        return \"Night\"\n",
    "\n",
    "data[\"Segment\"] = data[\"Time Segment\"].apply(time_segment_n)"
   ]
  },
  {
   "cell_type": "code",
   "execution_count": null,
   "id": "7d363394-0970-4ead-9906-9a87f9a6ca62",
   "metadata": {},
   "outputs": [],
   "source": []
  },
  {
   "cell_type": "code",
   "execution_count": null,
   "id": "83f0bf5b-7fc1-484e-a23f-bd7d9ac18adb",
   "metadata": {},
   "outputs": [],
   "source": []
  },
  {
   "cell_type": "code",
   "execution_count": 74,
   "id": "48d6cc34-a506-4f7a-80d5-3110cf60e880",
   "metadata": {},
   "outputs": [],
   "source": [
    "data[\"Ride Status\"] = data[\"Incomplete Rides\"].apply(lambda x: \"Incomplete\" if x == 1 else \"Completed\")"
   ]
  },
  {
   "cell_type": "code",
   "execution_count": 75,
   "id": "d3b3ae1a-7610-4c03-8065-a43e2e9a0e61",
   "metadata": {},
   "outputs": [],
   "source": [
    "data[\"Completed\"] =  data[\"Incomplete Rides\"].apply(lambda x: 0 if x == 1 else 1)"
   ]
  },
  {
   "cell_type": "code",
   "execution_count": null,
   "id": "368e0607-036a-4a7d-9e08-3d7f817a2f71",
   "metadata": {},
   "outputs": [],
   "source": []
  },
  {
   "cell_type": "code",
   "execution_count": 76,
   "id": "a83c8ec5-5a70-4659-997c-6bbe221f9c77",
   "metadata": {},
   "outputs": [],
   "source": [
    "data[\"Weekday_Num\"] = data[\"Date\"].dt.weekday"
   ]
  },
  {
   "cell_type": "code",
   "execution_count": 77,
   "id": "aa347798-8f30-4724-913a-128cf0435634",
   "metadata": {},
   "outputs": [],
   "source": [
    "data[\"Weekday\"] = data[\"Date\"].dt.day_name()"
   ]
  },
  {
   "cell_type": "code",
   "execution_count": null,
   "id": "298a38a3-239e-441b-97bd-49f3f5944c4b",
   "metadata": {},
   "outputs": [],
   "source": []
  },
  {
   "cell_type": "code",
   "execution_count": null,
   "id": "87198912-a086-4a3b-9832-66bfccd34e9f",
   "metadata": {},
   "outputs": [],
   "source": []
  },
  {
   "cell_type": "code",
   "execution_count": null,
   "id": "21691489-71d2-4aea-b30f-b4e5911e9124",
   "metadata": {},
   "outputs": [],
   "source": []
  },
  {
   "cell_type": "code",
   "execution_count": 92,
   "id": "4125d8ab-79a1-4c76-a260-34a8fef35d0f",
   "metadata": {},
   "outputs": [],
   "source": [
    "data[\"Cancelation by\"] = data[\"Booking Status\"].map(lambda x: \"Customer Canceled\" if x == \"Cancelled by Customer\" else None)"
   ]
  },
  {
   "cell_type": "code",
   "execution_count": 93,
   "id": "9b3adec4-2d79-4cfb-8d93-6e72f3ff2baf",
   "metadata": {},
   "outputs": [
    {
     "data": {
      "text/plain": [
       "np.int64(138365)"
      ]
     },
     "execution_count": 93,
     "metadata": {},
     "output_type": "execute_result"
    }
   ],
   "source": [
    "data[\"Cancelation by\"].isnull().sum()"
   ]
  },
  {
   "cell_type": "code",
   "execution_count": 94,
   "id": "c4bfe23f-d56d-4c4c-943b-368b5a67cbbb",
   "metadata": {},
   "outputs": [],
   "source": [
    "data[\"Cancelation by\"] =  data[\"Cancelation by\"].fillna( \n",
    "    data[\"Booking Status\"].map(lambda x: \"Driver Canceled\" if x == \"Cancelled by Driver\" else None) )"
   ]
  },
  {
   "cell_type": "code",
   "execution_count": 95,
   "id": "b423aa02-2d56-45cb-8709-fdb4ec557407",
   "metadata": {},
   "outputs": [
    {
     "data": {
      "text/plain": [
       "np.int64(111576)"
      ]
     },
     "execution_count": 95,
     "metadata": {},
     "output_type": "execute_result"
    }
   ],
   "source": [
    "data[\"Cancelation by\"].isnull().sum()"
   ]
  },
  {
   "cell_type": "code",
   "execution_count": 96,
   "id": "e6c3a972-b0d4-4a75-917c-74bff5f94a3c",
   "metadata": {},
   "outputs": [],
   "source": [
    "data[\"Cancelation by\"] =  data[\"Cancelation by\"].fillna(\"Not Canceled by both\")"
   ]
  },
  {
   "cell_type": "code",
   "execution_count": null,
   "id": "5b204748-1205-412f-9ffd-c60d9d0fff3c",
   "metadata": {},
   "outputs": [],
   "source": []
  },
  {
   "cell_type": "code",
   "execution_count": 97,
   "id": "f77d988f-e934-482c-bb11-4598c8a35a91",
   "metadata": {},
   "outputs": [
    {
     "data": {
      "text/plain": [
       "Booking Status\n",
       "Completed                92248\n",
       "Cancelled by Driver      26789\n",
       "Cancelled by Customer    10402\n",
       "No Driver Found          10401\n",
       "Incomplete                8927\n",
       "Name: count, dtype: int64"
      ]
     },
     "execution_count": 97,
     "metadata": {},
     "output_type": "execute_result"
    }
   ],
   "source": [
    "data[\"Booking Status\"].value_counts()"
   ]
  },
  {
   "cell_type": "code",
   "execution_count": 98,
   "id": "ac785d10-d2f8-4447-adb7-c3a2a6de333b",
   "metadata": {},
   "outputs": [
    {
     "data": {
      "text/plain": [
       "Index(['Date', 'Time', 'Booking ID', 'Booking Status', 'Customer ID',\n",
       "       'Vehicle Type', 'Pickup Location', 'Drop Location', 'Avg VTAT',\n",
       "       'Avg CTAT', 'Cancelled Rides by Customer',\n",
       "       'Reason for cancelling by Customer', 'Cancelled Rides by Driver',\n",
       "       'Driver Cancellation Reason', 'Incomplete Rides',\n",
       "       'Incomplete Rides Reason', 'Booking Value', 'Ride Distance',\n",
       "       'Driver Ratings', 'Customer Rating', 'Payment Method', 'Month',\n",
       "       'Month Name', 'Hour', 'Time Segment', 'Segment', 'Ride Status',\n",
       "       'Completed', 'Weekday_Num', 'Weekday', 'Cancelation by'],\n",
       "      dtype='object')"
      ]
     },
     "execution_count": 98,
     "metadata": {},
     "output_type": "execute_result"
    }
   ],
   "source": [
    "data.columns"
   ]
  },
  {
   "cell_type": "code",
   "execution_count": null,
   "id": "9410be13-7cee-4a71-b57b-885e9a9c6425",
   "metadata": {},
   "outputs": [],
   "source": []
  },
  {
   "cell_type": "code",
   "execution_count": null,
   "id": "10795a14-f9b2-44e3-80a1-fd5022e979a3",
   "metadata": {},
   "outputs": [],
   "source": []
  },
  {
   "cell_type": "code",
   "execution_count": 99,
   "id": "3f5cd059-575f-4939-be12-3f963e667d91",
   "metadata": {},
   "outputs": [
    {
     "data": {
      "text/html": [
       "<div>\n",
       "<style scoped>\n",
       "    .dataframe tbody tr th:only-of-type {\n",
       "        vertical-align: middle;\n",
       "    }\n",
       "\n",
       "    .dataframe tbody tr th {\n",
       "        vertical-align: top;\n",
       "    }\n",
       "\n",
       "    .dataframe thead th {\n",
       "        text-align: right;\n",
       "    }\n",
       "</style>\n",
       "<table border=\"1\" class=\"dataframe\">\n",
       "  <thead>\n",
       "    <tr style=\"text-align: right;\">\n",
       "      <th></th>\n",
       "      <th>Date</th>\n",
       "      <th>Time</th>\n",
       "      <th>Booking ID</th>\n",
       "      <th>Booking Status</th>\n",
       "      <th>Customer ID</th>\n",
       "      <th>Vehicle Type</th>\n",
       "      <th>Pickup Location</th>\n",
       "      <th>Drop Location</th>\n",
       "      <th>Avg VTAT</th>\n",
       "      <th>Avg CTAT</th>\n",
       "      <th>...</th>\n",
       "      <th>Month</th>\n",
       "      <th>Month Name</th>\n",
       "      <th>Hour</th>\n",
       "      <th>Time Segment</th>\n",
       "      <th>Segment</th>\n",
       "      <th>Ride Status</th>\n",
       "      <th>Completed</th>\n",
       "      <th>Weekday_Num</th>\n",
       "      <th>Weekday</th>\n",
       "      <th>Cancelation by</th>\n",
       "    </tr>\n",
       "  </thead>\n",
       "  <tbody>\n",
       "    <tr>\n",
       "      <th>0</th>\n",
       "      <td>2024-03-23</td>\n",
       "      <td>2025-09-22 12:29:38</td>\n",
       "      <td>\"CNR5884300\"</td>\n",
       "      <td>No Driver Found</td>\n",
       "      <td>\"CID1982111\"</td>\n",
       "      <td>eBike</td>\n",
       "      <td>Palam Vihar</td>\n",
       "      <td>Jhilmil</td>\n",
       "      <td>0.0</td>\n",
       "      <td>0.0</td>\n",
       "      <td>...</td>\n",
       "      <td>3</td>\n",
       "      <td>March</td>\n",
       "      <td>12</td>\n",
       "      <td>2</td>\n",
       "      <td>Noon</td>\n",
       "      <td>Incomplete</td>\n",
       "      <td>0</td>\n",
       "      <td>5</td>\n",
       "      <td>Saturday</td>\n",
       "      <td>Not Canceled by both</td>\n",
       "    </tr>\n",
       "    <tr>\n",
       "      <th>1</th>\n",
       "      <td>2024-11-29</td>\n",
       "      <td>2025-09-22 18:01:39</td>\n",
       "      <td>\"CNR1326809\"</td>\n",
       "      <td>Incomplete</td>\n",
       "      <td>\"CID4604802\"</td>\n",
       "      <td>Go Sedan</td>\n",
       "      <td>Shastri Nagar</td>\n",
       "      <td>Gurgaon Sector 56</td>\n",
       "      <td>4.9</td>\n",
       "      <td>14.0</td>\n",
       "      <td>...</td>\n",
       "      <td>11</td>\n",
       "      <td>November</td>\n",
       "      <td>18</td>\n",
       "      <td>3</td>\n",
       "      <td>Evening</td>\n",
       "      <td>Incomplete</td>\n",
       "      <td>0</td>\n",
       "      <td>4</td>\n",
       "      <td>Friday</td>\n",
       "      <td>Not Canceled by both</td>\n",
       "    </tr>\n",
       "    <tr>\n",
       "      <th>2</th>\n",
       "      <td>2024-08-23</td>\n",
       "      <td>2025-09-22 08:56:10</td>\n",
       "      <td>\"CNR8494506\"</td>\n",
       "      <td>Completed</td>\n",
       "      <td>\"CID9202816\"</td>\n",
       "      <td>Auto</td>\n",
       "      <td>Khandsa</td>\n",
       "      <td>Malviya Nagar</td>\n",
       "      <td>13.4</td>\n",
       "      <td>25.8</td>\n",
       "      <td>...</td>\n",
       "      <td>8</td>\n",
       "      <td>August</td>\n",
       "      <td>8</td>\n",
       "      <td>1</td>\n",
       "      <td>Morning</td>\n",
       "      <td>Completed</td>\n",
       "      <td>1</td>\n",
       "      <td>4</td>\n",
       "      <td>Friday</td>\n",
       "      <td>Not Canceled by both</td>\n",
       "    </tr>\n",
       "    <tr>\n",
       "      <th>3</th>\n",
       "      <td>2024-10-21</td>\n",
       "      <td>2025-09-22 17:17:25</td>\n",
       "      <td>\"CNR8906825\"</td>\n",
       "      <td>Completed</td>\n",
       "      <td>\"CID2610914\"</td>\n",
       "      <td>Premier Sedan</td>\n",
       "      <td>Central Secretariat</td>\n",
       "      <td>Inderlok</td>\n",
       "      <td>13.1</td>\n",
       "      <td>28.5</td>\n",
       "      <td>...</td>\n",
       "      <td>10</td>\n",
       "      <td>October</td>\n",
       "      <td>17</td>\n",
       "      <td>3</td>\n",
       "      <td>Evening</td>\n",
       "      <td>Completed</td>\n",
       "      <td>1</td>\n",
       "      <td>0</td>\n",
       "      <td>Monday</td>\n",
       "      <td>Not Canceled by both</td>\n",
       "    </tr>\n",
       "    <tr>\n",
       "      <th>4</th>\n",
       "      <td>2024-09-16</td>\n",
       "      <td>2025-09-22 22:08:00</td>\n",
       "      <td>\"CNR1950162\"</td>\n",
       "      <td>Completed</td>\n",
       "      <td>\"CID9933542\"</td>\n",
       "      <td>Bike</td>\n",
       "      <td>Ghitorni Village</td>\n",
       "      <td>Khan Market</td>\n",
       "      <td>5.3</td>\n",
       "      <td>19.6</td>\n",
       "      <td>...</td>\n",
       "      <td>9</td>\n",
       "      <td>September</td>\n",
       "      <td>22</td>\n",
       "      <td>4</td>\n",
       "      <td>Night</td>\n",
       "      <td>Completed</td>\n",
       "      <td>1</td>\n",
       "      <td>0</td>\n",
       "      <td>Monday</td>\n",
       "      <td>Not Canceled by both</td>\n",
       "    </tr>\n",
       "  </tbody>\n",
       "</table>\n",
       "<p>5 rows × 31 columns</p>\n",
       "</div>"
      ],
      "text/plain": [
       "        Date                Time    Booking ID   Booking Status   Customer ID  \\\n",
       "0 2024-03-23 2025-09-22 12:29:38  \"CNR5884300\"  No Driver Found  \"CID1982111\"   \n",
       "1 2024-11-29 2025-09-22 18:01:39  \"CNR1326809\"       Incomplete  \"CID4604802\"   \n",
       "2 2024-08-23 2025-09-22 08:56:10  \"CNR8494506\"        Completed  \"CID9202816\"   \n",
       "3 2024-10-21 2025-09-22 17:17:25  \"CNR8906825\"        Completed  \"CID2610914\"   \n",
       "4 2024-09-16 2025-09-22 22:08:00  \"CNR1950162\"        Completed  \"CID9933542\"   \n",
       "\n",
       "    Vehicle Type      Pickup Location      Drop Location  Avg VTAT  Avg CTAT  \\\n",
       "0          eBike          Palam Vihar            Jhilmil       0.0       0.0   \n",
       "1       Go Sedan        Shastri Nagar  Gurgaon Sector 56       4.9      14.0   \n",
       "2           Auto              Khandsa      Malviya Nagar      13.4      25.8   \n",
       "3  Premier Sedan  Central Secretariat           Inderlok      13.1      28.5   \n",
       "4           Bike     Ghitorni Village        Khan Market       5.3      19.6   \n",
       "\n",
       "   ...  Month Month Name  Hour Time Segment  Segment Ride Status  Completed  \\\n",
       "0  ...      3      March    12            2     Noon  Incomplete          0   \n",
       "1  ...     11   November    18            3  Evening  Incomplete          0   \n",
       "2  ...      8     August     8            1  Morning   Completed          1   \n",
       "3  ...     10    October    17            3  Evening   Completed          1   \n",
       "4  ...      9  September    22            4    Night   Completed          1   \n",
       "\n",
       "   Weekday_Num   Weekday        Cancelation by  \n",
       "0            5  Saturday  Not Canceled by both  \n",
       "1            4    Friday  Not Canceled by both  \n",
       "2            4    Friday  Not Canceled by both  \n",
       "3            0    Monday  Not Canceled by both  \n",
       "4            0    Monday  Not Canceled by both  \n",
       "\n",
       "[5 rows x 31 columns]"
      ]
     },
     "execution_count": 99,
     "metadata": {},
     "output_type": "execute_result"
    }
   ],
   "source": [
    "data.head()"
   ]
  },
  {
   "cell_type": "code",
   "execution_count": null,
   "id": "6eb2ed57-e85e-4edb-9023-2391bf16d07c",
   "metadata": {},
   "outputs": [],
   "source": []
  },
  {
   "cell_type": "markdown",
   "id": "8d7bdf16-0787-4f27-91ab-9f33ab4a84bf",
   "metadata": {},
   "source": [
    "# The data is nowclean and ready to get analyzed"
   ]
  },
  {
   "cell_type": "code",
   "execution_count": null,
   "id": "8b268d9a-f1da-4aa8-9e1c-1bc4005118f1",
   "metadata": {},
   "outputs": [],
   "source": []
  },
  {
   "cell_type": "code",
   "execution_count": 100,
   "id": "5af1fcf3-d033-4835-9c61-b7e432b8f136",
   "metadata": {},
   "outputs": [],
   "source": [
    "# Export DataFrame to CSV\n",
    "data.to_csv(\"uber_analysis.csv\", index=False)\n"
   ]
  },
  {
   "cell_type": "code",
   "execution_count": null,
   "id": "3069c9b2-d034-4678-b06b-b61c8060f683",
   "metadata": {},
   "outputs": [],
   "source": []
  },
  {
   "cell_type": "code",
   "execution_count": null,
   "id": "6af0d4c1-a45a-4a33-a531-f0520b7ea071",
   "metadata": {},
   "outputs": [],
   "source": []
  }
 ],
 "metadata": {
  "kernelspec": {
   "display_name": "Python 3 (ipykernel)",
   "language": "python",
   "name": "python3"
  },
  "language_info": {
   "codemirror_mode": {
    "name": "ipython",
    "version": 3
   },
   "file_extension": ".py",
   "mimetype": "text/x-python",
   "name": "python",
   "nbconvert_exporter": "python",
   "pygments_lexer": "ipython3",
   "version": "3.13.5"
  }
 },
 "nbformat": 4,
 "nbformat_minor": 5
}
